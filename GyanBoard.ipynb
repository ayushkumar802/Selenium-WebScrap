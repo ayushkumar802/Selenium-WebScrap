{
 "cells": [
  {
   "cell_type": "markdown",
   "id": "855d064c-aff5-4f17-9d5f-9c840d513b0b",
   "metadata": {},
   "source": [
    "## Importing Libraries"
   ]
  },
  {
   "cell_type": "code",
   "execution_count": 69,
   "id": "533c23bd",
   "metadata": {},
   "outputs": [],
   "source": [
    "import pandas as pd\n",
    "import numpy as np\n",
    "import time\n",
    "from selenium import webdriver\n",
    "from selenium.webdriver.common.by import By  "
   ]
  },
  {
   "cell_type": "markdown",
   "id": "d87e3f59-6f07-4bfe-b140-110d14e9f42a",
   "metadata": {},
   "source": [
    "## Connecting selenium to Chrome"
   ]
  },
  {
   "cell_type": "code",
   "execution_count": 70,
   "id": "27aae55d",
   "metadata": {},
   "outputs": [],
   "source": [
    "driver=webdriver.Chrome()"
   ]
  },
  {
   "cell_type": "markdown",
   "id": "1e2835d3-c930-4378-a5be-29e13d586780",
   "metadata": {},
   "source": [
    "## Opening Website "
   ]
  },
  {
   "cell_type": "code",
   "execution_count": 71,
   "id": "954b789f",
   "metadata": {},
   "outputs": [],
   "source": [
    "driver.get(\"https://www.gyanboard.com/\")"
   ]
  },
  {
   "cell_type": "markdown",
   "id": "56dfc14a-5238-4bd3-9789-6f61a88132d2",
   "metadata": {},
   "source": [
    "## Loop that Scrap Pages Content line by Line"
   ]
  },
  {
   "cell_type": "code",
   "execution_count": 6,
   "id": "90b1278a",
   "metadata": {
    "scrolled": true
   },
   "outputs": [],
   "source": [
    "table_=[]\n",
    "for i in range(100):\n",
    "    try:\n",
    "        content=driver.find_elements(By.XPATH,'//section')\n",
    "        content_=content[1].text\n",
    "#         content_=content_.replace(\"\\n\",\" \").replace(\"  \",\" \").replace(\"*\",\"\")\n",
    "        content_.split(\" Next >>\")[0].split(\" << Prev\")[0]\n",
    "        table_.append([content[0].text.split(\"\\n\")[0].strip(),content_.strip()])\n",
    "        time.sleep(2)\n",
    "        driver.find_element(By.XPATH,'//button[@style=\"float:inline-end\"]').click()\n",
    "    except NoSuchElementException:\n",
    "        print(\"No more pages. Scraping complete.\")\n",
    "        break"
   ]
  },
  {
   "cell_type": "code",
   "execution_count": 25,
   "id": "11db9600",
   "metadata": {},
   "outputs": [],
   "source": [
    "driver.find_element(By.XPATH,'//button[@class=\"btn btn-primary\"]').click()"
   ]
  },
  {
   "cell_type": "markdown",
   "id": "8b0d887f-2df6-4a11-b657-11ee1784ce3f",
   "metadata": {},
   "source": [
    "## Managing Scraped Data to a Tabular Data (Table)"
   ]
  },
  {
   "cell_type": "code",
   "execution_count": 91,
   "id": "781354ab",
   "metadata": {},
   "outputs": [],
   "source": [
    "df2=pd.DataFrame(table_)"
   ]
  },
  {
   "cell_type": "code",
   "execution_count": 89,
   "id": "d2cfb684",
   "metadata": {},
   "outputs": [],
   "source": [
    "df=pd.concat([df1,df2])"
   ]
  },
  {
   "cell_type": "code",
   "execution_count": 101,
   "id": "defa812a",
   "metadata": {},
   "outputs": [],
   "source": [
    "df[1]=df[1].apply(lambda x: x.strip())"
   ]
  },
  {
   "cell_type": "markdown",
   "id": "720584df-0661-46a2-8719-08601b2e2511",
   "metadata": {},
   "source": [
    "## Scarping the Topic Names of Chapters"
   ]
  },
  {
   "cell_type": "code",
   "execution_count": 176,
   "id": "b3154f40",
   "metadata": {},
   "outputs": [],
   "source": [
    "chapter_name = driver.find_elements(By.XPATH,'//li[@class=\"nav-heading\"]')\n",
    "chapters_data={}"
   ]
  },
  {
   "cell_type": "code",
   "execution_count": 197,
   "id": "f6afb373",
   "metadata": {},
   "outputs": [],
   "source": [
    "chapters_data=[]\n",
    "chapters = driver.find_elements(By.XPATH, '//li[@class=\"nav-heading\"]')\n",
    "for i in range(len(chapters)):\n",
    "    sibling = chapters[i].find_elements(By.XPATH, 'following-sibling::*')\n",
    "    j=0\n",
    "    temp_=[]\n",
    "    if sibling:\n",
    "        while sibling[j].text != chapters[i+1].text:\n",
    "            temp_.append(sibling[j].text.strip())\n",
    "            j+=1\n",
    "        chapters_data.append([chapters[i].text.strip(), temp_])\n",
    "   "
   ]
  },
  {
   "cell_type": "code",
   "execution_count": 198,
   "id": "8c4a36cc",
   "metadata": {},
   "outputs": [],
   "source": [
    "chapter_data = pd.DataFrame(chapters_data)"
   ]
  },
  {
   "cell_type": "code",
   "execution_count": 199,
   "id": "2490ce10",
   "metadata": {},
   "outputs": [],
   "source": [
    "chapter_data = chapter_data.explode(1)"
   ]
  },
  {
   "cell_type": "markdown",
   "id": "017b17ba-972b-4f89-a9f1-327fd18de0dd",
   "metadata": {},
   "source": [
    "## Merginng those Topic names to original Table"
   ]
  },
  {
   "cell_type": "code",
   "execution_count": 201,
   "id": "60cd2294",
   "metadata": {},
   "outputs": [],
   "source": [
    "new_df=pd.merge(df,chapter_data,left_on=0,right_on=1,how=\"left\")"
   ]
  },
  {
   "cell_type": "code",
   "execution_count": 203,
   "id": "5e6c1fe2",
   "metadata": {},
   "outputs": [],
   "source": [
    "new_df.drop(columns=['key_0','0_x'],inplace=True)"
   ]
  },
  {
   "cell_type": "code",
   "execution_count": 206,
   "id": "6055d762",
   "metadata": {},
   "outputs": [],
   "source": [
    "new_df.rename(columns={\n",
    "    '0_y':'Chapter',\n",
    "    '1_y':'Topic',\n",
    "     '1_x':'Content'\n",
    "},inplace=True)"
   ]
  },
  {
   "cell_type": "code",
   "execution_count": 208,
   "id": "2852f05f",
   "metadata": {},
   "outputs": [],
   "source": [
    "new_df = new_df[['Chapter','Topic','Content']]"
   ]
  },
  {
   "cell_type": "markdown",
   "id": "37e4691c-2636-4d4a-98b3-fa1b58f08250",
   "metadata": {},
   "source": [
    "## Final Table"
   ]
  },
  {
   "cell_type": "code",
   "execution_count": 209,
   "id": "816e9a26",
   "metadata": {},
   "outputs": [
    {
     "data": {
      "text/html": [
       "<div>\n",
       "<style scoped>\n",
       "    .dataframe tbody tr th:only-of-type {\n",
       "        vertical-align: middle;\n",
       "    }\n",
       "\n",
       "    .dataframe tbody tr th {\n",
       "        vertical-align: top;\n",
       "    }\n",
       "\n",
       "    .dataframe thead th {\n",
       "        text-align: right;\n",
       "    }\n",
       "</style>\n",
       "<table border=\"1\" class=\"dataframe\">\n",
       "  <thead>\n",
       "    <tr style=\"text-align: right;\">\n",
       "      <th></th>\n",
       "      <th>Chapter</th>\n",
       "      <th>Topic</th>\n",
       "      <th>Content</th>\n",
       "    </tr>\n",
       "  </thead>\n",
       "  <tbody>\n",
       "    <tr>\n",
       "      <th>0</th>\n",
       "      <td>Chapter 1 - Matter in Our Surroundings</td>\n",
       "      <td>States of matter</td>\n",
       "      <td>Matter around us exists in their different sta...</td>\n",
       "    </tr>\n",
       "    <tr>\n",
       "      <th>1</th>\n",
       "      <td>Chapter 1 - Matter in Our Surroundings</td>\n",
       "      <td>Can matter change its state?</td>\n",
       "      <td>Effect of change of temperature:- On increasin...</td>\n",
       "    </tr>\n",
       "    <tr>\n",
       "      <th>2</th>\n",
       "      <td>Chapter 1 - Matter in Our Surroundings</td>\n",
       "      <td>Physical nature of matter and Characteristics ...</td>\n",
       "      <td>Anything that occupies space and has mass and ...</td>\n",
       "    </tr>\n",
       "    <tr>\n",
       "      <th>3</th>\n",
       "      <td>Chapter 1 - Matter in Our Surroundings</td>\n",
       "      <td>Evaporation</td>\n",
       "      <td>Evaporation: Change of a liquid into vapours a...</td>\n",
       "    </tr>\n",
       "    <tr>\n",
       "      <th>4</th>\n",
       "      <td>Chapter 2- Is matter around us pure</td>\n",
       "      <td>Introduction of Is Matter Around Us Pure</td>\n",
       "      <td>Anything that occupies space and has mass is c...</td>\n",
       "    </tr>\n",
       "    <tr>\n",
       "      <th>...</th>\n",
       "      <td>...</td>\n",
       "      <td>...</td>\n",
       "      <td>...</td>\n",
       "    </tr>\n",
       "    <tr>\n",
       "      <th>78</th>\n",
       "      <td>Chapter 12 - Sound</td>\n",
       "      <td>Characteristics Of Sound Wave</td>\n",
       "      <td>We can describe a sound wave by its frequency ...</td>\n",
       "    </tr>\n",
       "    <tr>\n",
       "      <th>79</th>\n",
       "      <td>Chapter 13 - Why Do We Fall ill</td>\n",
       "      <td>Disease and Its Causes</td>\n",
       "      <td>What does disease look like? :- There are many...</td>\n",
       "    </tr>\n",
       "    <tr>\n",
       "      <th>80</th>\n",
       "      <td>Chapter 13 - Why Do We Fall ill</td>\n",
       "      <td>Differences between Being Healthy and Disease-...</td>\n",
       "      <td>Being Healthy Being Disease-free It is a state...</td>\n",
       "    </tr>\n",
       "    <tr>\n",
       "      <th>81</th>\n",
       "      <td>Chapter 13 - Why Do We Fall ill</td>\n",
       "      <td>Health and its Failure</td>\n",
       "      <td>The significance of Health:- Health is a state...</td>\n",
       "    </tr>\n",
       "    <tr>\n",
       "      <th>82</th>\n",
       "      <td>Chapter 13 - Why Do We Fall ill</td>\n",
       "      <td>Introduction</td>\n",
       "      <td>Health is a state of complete physical, mental...</td>\n",
       "    </tr>\n",
       "  </tbody>\n",
       "</table>\n",
       "<p>83 rows × 3 columns</p>\n",
       "</div>"
      ],
      "text/plain": [
       "                                   Chapter  \\\n",
       "0   Chapter 1 - Matter in Our Surroundings   \n",
       "1   Chapter 1 - Matter in Our Surroundings   \n",
       "2   Chapter 1 - Matter in Our Surroundings   \n",
       "3   Chapter 1 - Matter in Our Surroundings   \n",
       "4      Chapter 2- Is matter around us pure   \n",
       "..                                     ...   \n",
       "78                      Chapter 12 - Sound   \n",
       "79         Chapter 13 - Why Do We Fall ill   \n",
       "80         Chapter 13 - Why Do We Fall ill   \n",
       "81         Chapter 13 - Why Do We Fall ill   \n",
       "82         Chapter 13 - Why Do We Fall ill   \n",
       "\n",
       "                                                Topic  \\\n",
       "0                                    States of matter   \n",
       "1                        Can matter change its state?   \n",
       "2   Physical nature of matter and Characteristics ...   \n",
       "3                                         Evaporation   \n",
       "4            Introduction of Is Matter Around Us Pure   \n",
       "..                                                ...   \n",
       "78                      Characteristics Of Sound Wave   \n",
       "79                             Disease and Its Causes   \n",
       "80  Differences between Being Healthy and Disease-...   \n",
       "81                             Health and its Failure   \n",
       "82                                       Introduction   \n",
       "\n",
       "                                              Content  \n",
       "0   Matter around us exists in their different sta...  \n",
       "1   Effect of change of temperature:- On increasin...  \n",
       "2   Anything that occupies space and has mass and ...  \n",
       "3   Evaporation: Change of a liquid into vapours a...  \n",
       "4   Anything that occupies space and has mass is c...  \n",
       "..                                                ...  \n",
       "78  We can describe a sound wave by its frequency ...  \n",
       "79  What does disease look like? :- There are many...  \n",
       "80  Being Healthy Being Disease-free It is a state...  \n",
       "81  The significance of Health:- Health is a state...  \n",
       "82  Health is a state of complete physical, mental...  \n",
       "\n",
       "[83 rows x 3 columns]"
      ]
     },
     "execution_count": 209,
     "metadata": {},
     "output_type": "execute_result"
    }
   ],
   "source": [
    "new_df"
   ]
  },
  {
   "cell_type": "markdown",
   "id": "246ce81c-b32c-416c-90ec-d99e61c51c7b",
   "metadata": {},
   "source": [
    "## Exporting it in CSV format"
   ]
  },
  {
   "cell_type": "code",
   "execution_count": 210,
   "id": "b8f91abe",
   "metadata": {},
   "outputs": [],
   "source": [
    "new_df.to_csv('Gyan_Board.csv')"
   ]
  },
  {
   "cell_type": "code",
   "execution_count": null,
   "id": "82905490-6195-4e4d-9c63-81a0641562e0",
   "metadata": {},
   "outputs": [],
   "source": []
  }
 ],
 "metadata": {
  "kernelspec": {
   "display_name": "Python 3 (ipykernel)",
   "language": "python",
   "name": "python3"
  },
  "language_info": {
   "codemirror_mode": {
    "name": "ipython",
    "version": 3
   },
   "file_extension": ".py",
   "mimetype": "text/x-python",
   "name": "python",
   "nbconvert_exporter": "python",
   "pygments_lexer": "ipython3",
   "version": "3.13.5"
  }
 },
 "nbformat": 4,
 "nbformat_minor": 5
}
